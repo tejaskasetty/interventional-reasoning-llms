{
 "cells": [
  {
   "cell_type": "code",
   "execution_count": 2,
   "id": "26fa0eef-829f-467e-a125-5b8f02a3849f",
   "metadata": {},
   "outputs": [],
   "source": [
    "%load_ext autoreload\n",
    "%autoreload 2\n",
    "\n",
    "import os\n",
    "import sys\n",
    "sys.path.append(os.path.abspath(\"..\"))"
   ]
  },
  {
   "cell_type": "code",
   "execution_count": 1,
   "id": "25c344f0",
   "metadata": {},
   "outputs": [],
   "source": [
    "import numpy as np\n",
    "import pandas as pd"
   ]
  },
  {
   "cell_type": "code",
   "execution_count": 2,
   "id": "e145b93a-dc91-40c5-9e1e-798c6d6e68f1",
   "metadata": {},
   "outputs": [],
   "source": [
    "from rbias.llm import GPT, Llama, Mistral, Starchat\n",
    "from rbias.llm import Model"
   ]
  },
  {
   "cell_type": "code",
   "execution_count": 10,
   "id": "a3a57a9e-a24b-4639-b13c-8422480f9d22",
   "metadata": {},
   "outputs": [
    {
     "data": {
      "application/vnd.jupyter.widget-view+json": {
       "model_id": "7660dcc876714a248bb63606eb3abaf3",
       "version_major": 2,
       "version_minor": 0
      },
      "text/plain": [
       "Loading checkpoint shards:   0%|          | 0/2 [00:00<?, ?it/s]"
      ]
     },
     "metadata": {},
     "output_type": "display_data"
    }
   ],
   "source": [
    "llama = Llama()"
   ]
  },
  {
   "cell_type": "code",
   "execution_count": 11,
   "id": "3741db84-6413-4493-8a89-e494d8908568",
   "metadata": {},
   "outputs": [
    {
     "data": {
      "text/plain": [
       "('yes',\n",
       " '<answer>yes</answer>\\n\\nIn the intervened causal graphical model, Age does cause Compressive strength of concrete. The intervention of do(Compressive strength of concrete=30 MPa) has not changed the causal relationship between Age and Compressive strength of concrete. Age is still a cause of Compressive strength of concrete.')"
      ]
     },
     "execution_count": 11,
     "metadata": {},
     "output_type": "execute_result"
    }
   ],
   "source": [
    "df = pd.read_csv('../experiments/prompts/prompt_rchar_1709153316/inter_0/prompts_rchar_inter_cause_0.csv')\n",
    "llama(df[\"prompt\"])"
   ]
  },
  {
   "cell_type": "code",
   "execution_count": null,
   "id": "e0946bec-73d7-4d04-9cd8-c4a0ac221815",
   "metadata": {},
   "outputs": [],
   "source": [
    "mistral = Mistral()"
   ]
  },
  {
   "cell_type": "code",
   "execution_count": null,
   "id": "d1bb9618-8174-4005-a476-4f3bde798a2f",
   "metadata": {},
   "outputs": [],
   "source": [
    "starchat = Starchat()"
   ]
  }
 ],
 "metadata": {
  "kernelspec": {
   "display_name": "causal",
   "language": "python",
   "name": "python3"
  },
  "language_info": {
   "codemirror_mode": {
    "name": "ipython",
    "version": 3
   },
   "file_extension": ".py",
   "mimetype": "text/x-python",
   "name": "python",
   "nbconvert_exporter": "python",
   "pygments_lexer": "ipython3",
   "version": "3.12.0"
  }
 },
 "nbformat": 4,
 "nbformat_minor": 5
}
